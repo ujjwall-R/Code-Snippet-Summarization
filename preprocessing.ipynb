{
 "cells": [
  {
   "attachments": {},
   "cell_type": "markdown",
   "id": "fec8542b",
   "metadata": {},
   "source": [
    "NOTE: A cleaned implementation of this notebook is implemented in `preprocess.py` for training."
   ]
  },
  {
   "cell_type": "code",
   "execution_count": 1,
   "id": "5366b575",
   "metadata": {},
   "outputs": [],
   "source": [
    "import pandas as pd\n",
    "import numpy as np\n",
    "import re\n",
    "import matplotlib.pyplot as plt"
   ]
  },
  {
   "cell_type": "code",
   "execution_count": 3,
   "id": "bf02bc29",
   "metadata": {},
   "outputs": [],
   "source": [
    "# !unzip \"Datasets/python_dataset.zip\" -d \"Datasets\"\n",
    "# df = pd.read_csv(\"Datasets/python_dataset.csv\")\n",
    "# df = df[['code', 'docstring']]\n",
    "# print(df.shape)\n",
    "# df.head()"
   ]
  },
  {
   "cell_type": "code",
   "execution_count": 4,
   "id": "38af2921",
   "metadata": {},
   "outputs": [
    {
     "name": "stdout",
     "output_type": "stream",
     "text": [
      "(2163, 2)\n"
     ]
    },
    {
     "data": {
      "text/html": [
       "<div>\n",
       "<style scoped>\n",
       "    .dataframe tbody tr th:only-of-type {\n",
       "        vertical-align: middle;\n",
       "    }\n",
       "\n",
       "    .dataframe tbody tr th {\n",
       "        vertical-align: top;\n",
       "    }\n",
       "\n",
       "    .dataframe thead th {\n",
       "        text-align: right;\n",
       "    }\n",
       "</style>\n",
       "<table border=\"1\" class=\"dataframe\">\n",
       "  <thead>\n",
       "    <tr style=\"text-align: right;\">\n",
       "      <th></th>\n",
       "      <th>code</th>\n",
       "      <th>docstring</th>\n",
       "    </tr>\n",
       "  </thead>\n",
       "  <tbody>\n",
       "    <tr>\n",
       "      <th>0</th>\n",
       "      <td>root.attributes('-topmost', True)</td>\n",
       "      <td>How to make a window jump to the front?</td>\n",
       "    </tr>\n",
       "    <tr>\n",
       "      <th>1</th>\n",
       "      <td>root.lift()</td>\n",
       "      <td>How to make a window jump to the front?</td>\n",
       "    </tr>\n",
       "    <tr>\n",
       "      <th>2</th>\n",
       "      <td>hex(int(''.join([str(int(b)) for b in walls]), 2))</td>\n",
       "      <td>Elegant way to convert list to hex string</td>\n",
       "    </tr>\n",
       "    <tr>\n",
       "      <th>3</th>\n",
       "      <td>hex(sum(b &lt;&lt; i for i, b in enumerate(reversed(walls))))</td>\n",
       "      <td>Elegant way to convert list to hex string</td>\n",
       "    </tr>\n",
       "    <tr>\n",
       "      <th>4</th>\n",
       "      <td>print(('Total score for', name, 'is', score))</td>\n",
       "      <td>Print multiple arguments in python</td>\n",
       "    </tr>\n",
       "  </tbody>\n",
       "</table>\n",
       "</div>"
      ],
      "text/plain": [
       "                                                      code  \\\n",
       "0                        root.attributes('-topmost', True)   \n",
       "1                                              root.lift()   \n",
       "2       hex(int(''.join([str(int(b)) for b in walls]), 2))   \n",
       "3  hex(sum(b << i for i, b in enumerate(reversed(walls))))   \n",
       "4            print(('Total score for', name, 'is', score))   \n",
       "\n",
       "                                   docstring  \n",
       "0    How to make a window jump to the front?  \n",
       "1    How to make a window jump to the front?  \n",
       "2  Elegant way to convert list to hex string  \n",
       "3  Elegant way to convert list to hex string  \n",
       "4         Print multiple arguments in python  "
      ]
     },
     "execution_count": 4,
     "metadata": {},
     "output_type": "execute_result"
    }
   ],
   "source": [
    "df = pd.read_csv(\"Datasets/python_Sample_dataset.csv\")\n",
    "df = df[['code', 'docstring']]\n",
    "print(df.shape)\n",
    "\n",
    "pd.options.display.max_colwidth = 100\n",
    "df.head()"
   ]
  },
  {
   "attachments": {},
   "cell_type": "markdown",
   "id": "1e85ba8f",
   "metadata": {},
   "source": [
    "# Preprocessing"
   ]
  },
  {
   "cell_type": "code",
   "execution_count": 5,
   "id": "4c73af61",
   "metadata": {},
   "outputs": [
    {
     "data": {
      "text/plain": [
       "code         0\n",
       "docstring    0\n",
       "dtype: int64"
      ]
     },
     "execution_count": 5,
     "metadata": {},
     "output_type": "execute_result"
    }
   ],
   "source": [
    "df.isna().sum()"
   ]
  },
  {
   "cell_type": "code",
   "execution_count": 6,
   "id": "01fe73e9",
   "metadata": {},
   "outputs": [
    {
     "data": {
      "text/plain": [
       "(2163, 2)"
      ]
     },
     "execution_count": 6,
     "metadata": {},
     "output_type": "execute_result"
    }
   ],
   "source": [
    "# df[df['code'].isna()].head()\n",
    "df.dropna(inplace=True)\n",
    "df.shape"
   ]
  },
  {
   "cell_type": "code",
   "execution_count": 7,
   "id": "aa54f0dc",
   "metadata": {
    "scrolled": true
   },
   "outputs": [
    {
     "data": {
      "text/plain": [
       "code         object\n",
       "docstring    object\n",
       "dtype: object"
      ]
     },
     "execution_count": 7,
     "metadata": {},
     "output_type": "execute_result"
    }
   ],
   "source": [
    "df.dtypes"
   ]
  },
  {
   "cell_type": "code",
   "execution_count": 8,
   "id": "5f71f072",
   "metadata": {},
   "outputs": [],
   "source": [
    "def clean_text(text):\n",
    "    # Split CamelCase characters like ConcatenationOperator to Concatenation Operator\n",
    "    text = re.sub('([A-Z][a-z]+)', r' \\1', re.sub('([A-Z]+)', r' \\1', str(text))).split()\n",
    "    text = ' '.join(text)\n",
    "    \n",
    "    # Replace tabs, newlines, and carriage returns with a single space\n",
    "    text = re.sub(\"(\\\\t|\\\\r|\\\\n)\", \" \", str(text)).lower()\n",
    "    \n",
    "    # Remove special characters, numbers, and punctuation\n",
    "    text = re.sub(r\"[<>()|&©ø\\[\\]\\'\\\",.\\}`$\\{;@?~*!+=_\\//1234567890]\", \" \", str(text)).lower()\n",
    "    \n",
    "    # Remove repeated words\n",
    "    text = re.sub(r\"\\b(\\w+)(?:\\W+\\1\\b)+\", \"\", str(text)).lower()\n",
    "    \n",
    "    # Remove punctuation at the end of a word\n",
    "    text = re.sub(\"(\\.\\s+|\\-\\s+|\\:\\s+)\", \" \", str(text)).lower()\n",
    "    \n",
    "    # Remove multiple spaces\n",
    "    text = re.sub(\"(\\s+)\", \" \", str(text)).lower()\n",
    "    \n",
    "    # Remove single character (any character) between any two spaces\n",
    "    text = re.sub(\"(\\s+.\\s+)\", \" \", str(text)).lower()\n",
    "\n",
    "    return text"
   ]
  },
  {
   "cell_type": "code",
   "execution_count": 9,
   "id": "ab29b780",
   "metadata": {},
   "outputs": [
    {
     "data": {
      "text/html": [
       "<div>\n",
       "<style scoped>\n",
       "    .dataframe tbody tr th:only-of-type {\n",
       "        vertical-align: middle;\n",
       "    }\n",
       "\n",
       "    .dataframe tbody tr th {\n",
       "        vertical-align: top;\n",
       "    }\n",
       "\n",
       "    .dataframe thead th {\n",
       "        text-align: right;\n",
       "    }\n",
       "</style>\n",
       "<table border=\"1\" class=\"dataframe\">\n",
       "  <thead>\n",
       "    <tr style=\"text-align: right;\">\n",
       "      <th></th>\n",
       "      <th>code</th>\n",
       "      <th>docstring</th>\n",
       "    </tr>\n",
       "  </thead>\n",
       "  <tbody>\n",
       "    <tr>\n",
       "      <th>0</th>\n",
       "      <td>root attributes -topmost true</td>\n",
       "      <td>how to make window jump to the front</td>\n",
       "    </tr>\n",
       "    <tr>\n",
       "      <th>1</th>\n",
       "      <td>root lift</td>\n",
       "      <td>how to make window jump to the front</td>\n",
       "    </tr>\n",
       "    <tr>\n",
       "      <th>2</th>\n",
       "      <td>hex int join str int for in walls</td>\n",
       "      <td>elegant way to convert list to hex string</td>\n",
       "    </tr>\n",
       "    <tr>\n",
       "      <th>3</th>\n",
       "      <td>hex sum i for b in enumerate reversed walls</td>\n",
       "      <td>elegant way to convert list to hex string</td>\n",
       "    </tr>\n",
       "    <tr>\n",
       "      <th>4</th>\n",
       "      <td>print total score for name is score</td>\n",
       "      <td>print multiple arguments in python</td>\n",
       "    </tr>\n",
       "  </tbody>\n",
       "</table>\n",
       "</div>"
      ],
      "text/plain": [
       "                                           code  \\\n",
       "0                root attributes -topmost true    \n",
       "1                                    root lift    \n",
       "2            hex int join str int for in walls    \n",
       "3  hex sum i for b in enumerate reversed walls    \n",
       "4          print total score for name is score    \n",
       "\n",
       "                                   docstring  \n",
       "0      how to make window jump to the front   \n",
       "1      how to make window jump to the front   \n",
       "2  elegant way to convert list to hex string  \n",
       "3  elegant way to convert list to hex string  \n",
       "4         print multiple arguments in python  "
      ]
     },
     "execution_count": 9,
     "metadata": {},
     "output_type": "execute_result"
    }
   ],
   "source": [
    "df['code'] = df['code'].apply(clean_text)\n",
    "df['docstring'] = df['docstring'].apply(clean_text)\n",
    "df.head()"
   ]
  },
  {
   "cell_type": "code",
   "execution_count": 56,
   "id": "b0b0bf09",
   "metadata": {},
   "outputs": [],
   "source": [
    "# df['code'] = df['code'].astype(str)\n",
    "# df['docstring'] = df['docstring'].astype(str)"
   ]
  },
  {
   "cell_type": "code",
   "execution_count": null,
   "id": "4c2d7929",
   "metadata": {},
   "outputs": [],
   "source": []
  },
  {
   "cell_type": "code",
   "execution_count": 10,
   "id": "a2cb7bc7",
   "metadata": {},
   "outputs": [
    {
     "data": {
      "image/png": "[encoded data removed]",
      "text/plain": [
       "<Figure size 432x288 with 1 Axes>"
      ]
     },
     "metadata": {
      "needs_background": "light"
     },
     "output_type": "display_data"
    }
   ],
   "source": [
    "code_word_counts = df['code'].str.split().str.len()\n",
    "histogram_df = pd.DataFrame({'code_word_count': code_word_counts})\n",
    "\n",
    "histogram_df.hist(column='code_word_count', bins=10)\n",
    "plt.xlabel('Number of Words')\n",
    "plt.ylabel('Frequency')\n",
    "plt.title('Histogram of Code Sentence Word Counts')\n",
    "# define fig size\n",
    "plt.rcParams[\"figure.figsize\"] = (10,5)\n",
    "plt.show()"
   ]
  },
  {
   "cell_type": "code",
   "execution_count": 11,
   "id": "690b92fe",
   "metadata": {},
   "outputs": [
    {
     "data": {
      "image/png": "[encoded data removed]",
      "text/plain": [
       "<Figure size 720x360 with 1 Axes>"
      ]
     },
     "metadata": {
      "needs_background": "light"
     },
     "output_type": "display_data"
    }
   ],
   "source": [
    "summary_word_counts = df['docstring'].str.split().str.len()\n",
    "histogram_df = pd.DataFrame({'summary_word_counts': summary_word_counts})\n",
    "\n",
    "histogram_df.hist(column='summary_word_counts', bins=10)\n",
    "plt.xlabel('Number of Words')\n",
    "plt.ylabel('Frequency')\n",
    "plt.title('Histogram of Word Counts in Summary')\n",
    "plt.show()"
   ]
  },
  {
   "cell_type": "code",
   "execution_count": 12,
   "id": "1240e4d9",
   "metadata": {},
   "outputs": [
    {
     "name": "stdout",
     "output_type": "stream",
     "text": [
      "26 22.0\n",
      "25 16.0\n"
     ]
    }
   ],
   "source": [
    "# Deciding max len based on max & quartles\n",
    "print(np.max(code_word_counts), np.percentile(code_word_counts, 99.9))\n",
    "print(np.max(summary_word_counts), np.percentile(summary_word_counts, 99))"
   ]
  },
  {
   "cell_type": "code",
   "execution_count": 13,
   "id": "5eac22d7",
   "metadata": {},
   "outputs": [],
   "source": [
    "# TODO: Deciding max len\n",
    "max_code_len = 100\n",
    "max_summary_len = 25"
   ]
  },
  {
   "attachments": {},
   "cell_type": "markdown",
   "id": "34bac091",
   "metadata": {},
   "source": [
    "Removing rows with greater than max len - outliers?"
   ]
  },
  {
   "cell_type": "code",
   "execution_count": 14,
   "id": "59d162ea",
   "metadata": {},
   "outputs": [
    {
     "data": {
      "text/html": [
       "<div>\n",
       "<style scoped>\n",
       "    .dataframe tbody tr th:only-of-type {\n",
       "        vertical-align: middle;\n",
       "    }\n",
       "\n",
       "    .dataframe tbody tr th {\n",
       "        vertical-align: top;\n",
       "    }\n",
       "\n",
       "    .dataframe thead th {\n",
       "        text-align: right;\n",
       "    }\n",
       "</style>\n",
       "<table border=\"1\" class=\"dataframe\">\n",
       "  <thead>\n",
       "    <tr style=\"text-align: right;\">\n",
       "      <th></th>\n",
       "      <th>code</th>\n",
       "      <th>docstring</th>\n",
       "    </tr>\n",
       "  </thead>\n",
       "  <tbody>\n",
       "    <tr>\n",
       "      <th>0</th>\n",
       "      <td>root attributes -topmost true</td>\n",
       "      <td>sostok how to make window jump to the front  eostok</td>\n",
       "    </tr>\n",
       "    <tr>\n",
       "      <th>1</th>\n",
       "      <td>root lift</td>\n",
       "      <td>sostok how to make window jump to the front  eostok</td>\n",
       "    </tr>\n",
       "    <tr>\n",
       "      <th>2</th>\n",
       "      <td>hex int join str int for in walls</td>\n",
       "      <td>sostok elegant way to convert list to hex string eostok</td>\n",
       "    </tr>\n",
       "    <tr>\n",
       "      <th>3</th>\n",
       "      <td>hex sum i for b in enumerate reversed walls</td>\n",
       "      <td>sostok elegant way to convert list to hex string eostok</td>\n",
       "    </tr>\n",
       "    <tr>\n",
       "      <th>4</th>\n",
       "      <td>print total score for name is score</td>\n",
       "      <td>sostok print multiple arguments in python eostok</td>\n",
       "    </tr>\n",
       "  </tbody>\n",
       "</table>\n",
       "</div>"
      ],
      "text/plain": [
       "                                           code  \\\n",
       "0                root attributes -topmost true    \n",
       "1                                    root lift    \n",
       "2            hex int join str int for in walls    \n",
       "3  hex sum i for b in enumerate reversed walls    \n",
       "4          print total score for name is score    \n",
       "\n",
       "                                                 docstring  \n",
       "0      sostok how to make window jump to the front  eostok  \n",
       "1      sostok how to make window jump to the front  eostok  \n",
       "2  sostok elegant way to convert list to hex string eostok  \n",
       "3  sostok elegant way to convert list to hex string eostok  \n",
       "4         sostok print multiple arguments in python eostok  "
      ]
     },
     "execution_count": 14,
     "metadata": {},
     "output_type": "execute_result"
    }
   ],
   "source": [
    "# Filter only those rows which has codes and summaries within max length\n",
    "# utilizes boolean indexing and str.len() method to filter t df directly\n",
    "df = df[(df['code'].str.split().str.len() <= max_code_len) & (df['docstring'].str.split().str.len() <= max_summary_len)]\n",
    "\n",
    "# Apply start and end markers to the summaries\n",
    "df['docstring'] = 'sostok ' + df['docstring'] + ' eostok'\n",
    "\n",
    "df.head()"
   ]
  },
  {
   "cell_type": "code",
   "execution_count": 15,
   "id": "8572b57c",
   "metadata": {},
   "outputs": [
    {
     "data": {
      "text/html": [
       "<div>\n",
       "<style scoped>\n",
       "    .dataframe tbody tr th:only-of-type {\n",
       "        vertical-align: middle;\n",
       "    }\n",
       "\n",
       "    .dataframe tbody tr th {\n",
       "        vertical-align: top;\n",
       "    }\n",
       "\n",
       "    .dataframe thead th {\n",
       "        text-align: right;\n",
       "    }\n",
       "</style>\n",
       "<table border=\"1\" class=\"dataframe\">\n",
       "  <thead>\n",
       "    <tr style=\"text-align: right;\">\n",
       "      <th></th>\n",
       "      <th>code</th>\n",
       "      <th>docstring</th>\n",
       "    </tr>\n",
       "  </thead>\n",
       "  <tbody>\n",
       "  </tbody>\n",
       "</table>\n",
       "</div>"
      ],
      "text/plain": [
       "Empty DataFrame\n",
       "Columns: [code, docstring]\n",
       "Index: []"
      ]
     },
     "execution_count": 15,
     "metadata": {},
     "output_type": "execute_result"
    }
   ],
   "source": [
    "# check if there is a blank docstring\n",
    "# df[df['docstring'] == 'sostok eostok'].head()\n",
    "df[df['docstring'].str.split().str.len() == 2].head()"
   ]
  },
  {
   "cell_type": "code",
   "execution_count": 16,
   "id": "7ef65e84",
   "metadata": {},
   "outputs": [],
   "source": [
    "# remove blank summaries that is empty strings (containing only sstok and estok markers)\n",
    "# df = df[~df['summary'].isin(['sostok eostok'])]"
   ]
  },
  {
   "attachments": {},
   "cell_type": "markdown",
   "id": "374db343",
   "metadata": {},
   "source": [
    "# Tokenisation"
   ]
  },
  {
   "attachments": {},
   "cell_type": "markdown",
   "id": "1fd4fd55",
   "metadata": {},
   "source": [
    "**Tokenization** is the process of splitting the text into individual words (tokens).\n",
    "\n",
    "<!-- toggle -->\n",
    "\n",
    "<details>\n",
    "    <summary>Attributes: </summary>\n",
    "\n",
    "- word_counts: A dictionary of words and their counts.\n",
    "- word_docs: A dictionary of words and how many documents each appeared in.\n",
    "- word_index: A dictionary of words and their uniquely assigned integers.\n",
    "- document_count: An integer count of the total number of documents that were used to fit the Tokenizer.\n",
    "</details>"
   ]
  },
  {
   "cell_type": "code",
   "execution_count": 17,
   "id": "76a5f9d2",
   "metadata": {},
   "outputs": [],
   "source": [
    "from sklearn.model_selection import train_test_split\n",
    "from tensorflow.keras.preprocessing.text import Tokenizer\n",
    "from tensorflow.keras.preprocessing.sequence import pad_sequences"
   ]
  },
  {
   "cell_type": "code",
   "execution_count": 18,
   "id": "39a99a00",
   "metadata": {},
   "outputs": [
    {
     "name": "stdout",
     "output_type": "stream",
     "text": [
      "Train:  (1838,)\n",
      "Val:  (325,)\n"
     ]
    }
   ],
   "source": [
    "x_train, x_val, y_train, y_val = train_test_split(\n",
    "    np.array(df['code']),\n",
    "    np.array(df['docstring']),\n",
    "    test_size=0.15,\n",
    "    random_state=0,\n",
    "    shuffle=True\n",
    ")\n",
    "\n",
    "print(\"Train: \", x_train.shape)\n",
    "print(\"Val: \", x_val.shape)"
   ]
  },
  {
   "attachments": {},
   "cell_type": "markdown",
   "id": "41b5eff8",
   "metadata": {},
   "source": [
    "**Tokenizing code:**"
   ]
  },
  {
   "cell_type": "code",
   "execution_count": 19,
   "id": "d99557b7",
   "metadata": {},
   "outputs": [],
   "source": [
    "# Prepare a tokenizer on training data\n",
    "x_tokenizer = Tokenizer()\n",
    "x_tokenizer.fit_on_texts(list(x_train))"
   ]
  },
  {
   "cell_type": "code",
   "execution_count": 20,
   "id": "6f4f83fb",
   "metadata": {},
   "outputs": [
    {
     "name": "stdout",
     "output_type": "stream",
     "text": [
      "None\n",
      "1838\n",
      "1471\n"
     ]
    }
   ],
   "source": [
    "print(x_tokenizer.num_words)    # returning None ?\n",
    "print(x_tokenizer.document_count)  # total number of texts used to fit the tokenizer\n",
    "print(len(x_tokenizer.word_index))  # unique words => dict of (unique words, token)"
   ]
  },
  {
   "cell_type": "code",
   "execution_count": 21,
   "id": "1b816674",
   "metadata": {},
   "outputs": [
    {
     "data": {
      "text/plain": [
       "keras.preprocessing.text.Tokenizer"
      ]
     },
     "execution_count": 21,
     "metadata": {},
     "output_type": "execute_result"
    }
   ],
   "source": [
    "type(x_tokenizer)"
   ]
  },
  {
   "attachments": {},
   "cell_type": "markdown",
   "id": "14277d59",
   "metadata": {},
   "source": [
    "TODO: Infrequent/rarer words are good, no? \n",
    "Stop words toh frequent honge hi."
   ]
  },
  {
   "cell_type": "code",
   "execution_count": 22,
   "id": "6de51d18",
   "metadata": {},
   "outputs": [
    {
     "name": "stdout",
     "output_type": "stream",
     "text": [
      "%age of not frequent words in vocabulary:  47.58667573079538\n"
     ]
    }
   ],
   "source": [
    "# Check infrequent words in the vocabulary, as it may add noise\n",
    "\n",
    "threshold = 2 #omit words which occur only two times \n",
    "# ( can use 5 thresh in case of larger datasets )\n",
    "\n",
    "# total_cnt = 0\n",
    "# cnt_infrequent = 0\n",
    "# for key, value in x_tokenizer.word_counts.items():   # dict of word and count\n",
    "#     total_cnt += 1\n",
    "#     if value < threshold:\n",
    "#         cnt_infrequent += 1\n",
    "\n",
    "total_cnt = len(x_tokenizer.word_index)\n",
    "cnt_infrequent = sum(1 for count in x_tokenizer.word_counts.values() if count < threshold)\n",
    "    \n",
    "print(\"%age of not frequent words in vocabulary: \", (cnt_infrequent / total_cnt) * 100)"
   ]
  },
  {
   "cell_type": "code",
   "execution_count": 23,
   "id": "6808bbe3",
   "metadata": {},
   "outputs": [
    {
     "name": "stdout",
     "output_type": "stream",
     "text": [
      "1471 700\n"
     ]
    }
   ],
   "source": [
    "print(total_cnt, cnt_infrequent)"
   ]
  },
  {
   "cell_type": "code",
   "execution_count": 24,
   "id": "7a697c72",
   "metadata": {},
   "outputs": [],
   "source": [
    "# Remove the infrequent words\n",
    "num_words = total_cnt - cnt_infrequent\n",
    "x_tokenizer = Tokenizer(num_words=num_words)\n",
    "x_tokenizer.fit_on_texts(list(x_train))"
   ]
  },
  {
   "cell_type": "code",
   "execution_count": 25,
   "id": "2d675f67",
   "metadata": {},
   "outputs": [
    {
     "name": "stdout",
     "output_type": "stream",
     "text": [
      "771\n",
      "1838\n",
      "1471\n"
     ]
    }
   ],
   "source": [
    "print(x_tokenizer.num_words)    # max no. of words kept in dict\n",
    "print(x_tokenizer.document_count)  # total number of texts used to fit the tokenizer\n",
    "print(len(x_tokenizer.word_index))  # unique words => dict of (unique words, token)"
   ]
  },
  {
   "cell_type": "code",
   "execution_count": 26,
   "id": "c7d5231f",
   "metadata": {},
   "outputs": [
    {
     "name": "stdout",
     "output_type": "stream",
     "text": [
      "Size of vocabulary in X = 772\n"
     ]
    }
   ],
   "source": [
    "# Size of vocabulary (+1 for padding token)\n",
    "x_vocab_size = x_tokenizer.num_words + 1\n",
    "print(\"Size of vocabulary in X = {}\".format(x_vocab_size))"
   ]
  },
  {
   "cell_type": "code",
   "execution_count": 27,
   "id": "35c99b9a",
   "metadata": {},
   "outputs": [],
   "source": [
    "# Convert the code sequences to integer sequences (tokens)\n",
    "x_train_seqs = x_tokenizer.texts_to_sequences(x_train)\n",
    "x_val_seqs = x_tokenizer.texts_to_sequences(x_val)"
   ]
  },
  {
   "cell_type": "code",
   "execution_count": 28,
   "id": "6b6ec03f",
   "metadata": {},
   "outputs": [
    {
     "data": {
      "text/plain": [
       "[[4, 233, 522, 523, 152, 27],\n",
       " [31, 2, 338, 1, 32, 11, 2, 31, 1, 338],\n",
       " [141, 407],\n",
       " [77, 94, 23, 38, 19, 153],\n",
       " [56, 3]]"
      ]
     },
     "execution_count": 28,
     "metadata": {},
     "output_type": "execute_result"
    }
   ],
   "source": [
    "x_train_seqs[:5]"
   ]
  },
  {
   "cell_type": "code",
   "execution_count": 29,
   "id": "2602da49",
   "metadata": {},
   "outputs": [],
   "source": [
    "# Pad sequences (with 0) to ensure consistent length\n",
    "x_train = pad_sequences(x_train_seqs,  maxlen=max_code_len, padding='post')\n",
    "x_val = pad_sequences(x_val_seqs, maxlen=max_code_len, padding='post')"
   ]
  },
  {
   "cell_type": "code",
   "execution_count": 30,
   "id": "f7bfb9da",
   "metadata": {},
   "outputs": [
    {
     "data": {
      "text/plain": [
       "array([  4, 233, 522, 523, 152,  27,   0,   0,   0,   0,   0,   0,   0,\n",
       "         0,   0,   0,   0,   0,   0,   0,   0,   0,   0,   0,   0,   0,\n",
       "         0,   0,   0,   0,   0,   0,   0,   0,   0,   0,   0,   0,   0,\n",
       "         0,   0,   0,   0,   0,   0,   0,   0,   0,   0,   0,   0,   0,\n",
       "         0,   0,   0,   0,   0,   0,   0,   0,   0,   0,   0,   0,   0,\n",
       "         0,   0,   0,   0,   0,   0,   0,   0,   0,   0,   0,   0,   0,\n",
       "         0,   0,   0,   0,   0,   0,   0,   0,   0,   0,   0,   0,   0,\n",
       "         0,   0,   0,   0,   0,   0,   0,   0,   0])"
      ]
     },
     "execution_count": 30,
     "metadata": {},
     "output_type": "execute_result"
    }
   ],
   "source": [
    "x_train[0]"
   ]
  },
  {
   "attachments": {},
   "cell_type": "markdown",
   "id": "65500b17",
   "metadata": {},
   "source": [
    "**Tokenizing summary:**"
   ]
  },
  {
   "cell_type": "code",
   "execution_count": 31,
   "id": "73c414e0",
   "metadata": {},
   "outputs": [
    {
     "name": "stdout",
     "output_type": "stream",
     "text": [
      "Size of vocabulary in Y = 936\n"
     ]
    }
   ],
   "source": [
    "y_tokenizer = Tokenizer()\n",
    "y_tokenizer.fit_on_texts(list(y_train))\n",
    "\n",
    "threshold = 2    # increase for larger datsets\n",
    "total_cnt = len(x_tokenizer.word_index)\n",
    "cnt_infrequent = sum(1 for count in y_tokenizer.word_counts.values() if count < threshold)\n",
    "num_words = total_cnt - cnt_infrequent\n",
    "\n",
    "y_tokenizer = Tokenizer(num_words=num_words)\n",
    "y_tokenizer.fit_on_texts(list(y_train))\n",
    "\n",
    "y_train_seqs = y_tokenizer.texts_to_sequences(y_train)\n",
    "y_val_seqs = y_tokenizer.texts_to_sequences(y_val)\n",
    "\n",
    "y_train = pad_sequences(y_train_seqs,  maxlen=max_summary_len, padding='post')\n",
    "y_val = pad_sequences(y_val_seqs, maxlen=max_summary_len, padding='post')\n",
    "\n",
    "y_vocab_size = y_tokenizer.num_words + 1\n",
    "print(\"Size of vocabulary in Y = {}\".format(y_vocab_size))"
   ]
  },
  {
   "cell_type": "code",
   "execution_count": 32,
   "id": "5875310b",
   "metadata": {},
   "outputs": [
    {
     "data": {
      "text/plain": [
       "array([  1,   6,   5, 138, 228, 770,  19, 771,  17,   3,  13,  26,  34,\n",
       "         2,   0,   0,   0,   0,   0,   0,   0,   0,   0,   0,   0])"
      ]
     },
     "execution_count": 32,
     "metadata": {},
     "output_type": "execute_result"
    }
   ],
   "source": [
    "y_train[0]"
   ]
  },
  {
   "cell_type": "code",
   "execution_count": 33,
   "id": "cc4a2b63",
   "metadata": {},
   "outputs": [
    {
     "name": "stdout",
     "output_type": "stream",
     "text": [
      "1838 1838\n",
      "325 325\n"
     ]
    }
   ],
   "source": [
    "print(len(x_train), len(y_train))\n",
    "print(len(x_val), len(y_val))"
   ]
  },
  {
   "attachments": {},
   "cell_type": "markdown",
   "id": "accb1621",
   "metadata": {},
   "source": [
    "TODO:\n",
    "- Handling **Stop Words** ?\n",
    "- What happen with **OOVs** ?\n",
    "\n",
    "*By default, the tokenizer assigns the index 1 to OOV words*"
   ]
  },
  {
   "attachments": {},
   "cell_type": "markdown",
   "id": "d5b84deb",
   "metadata": {},
   "source": [
    "TODO:\n",
    "Using standard word vectors like **GloVe** instead of basic tokenisation"
   ]
  },
  {
   "cell_type": "code",
   "execution_count": null,
   "id": "5c6147fd",
   "metadata": {},
   "outputs": [],
   "source": []
  }
 ],
 "metadata": {
  "kernelspec": {
   "display_name": "Python 3 (ipykernel)",
   "language": "python",
   "name": "python3"
  },
  "language_info": {
   "codemirror_mode": {
    "name": "ipython",
    "version": 3
   },
   "file_extension": ".py",
   "mimetype": "text/x-python",
   "name": "python",
   "nbconvert_exporter": "python",
   "pygments_lexer": "ipython3",
   "version": "3.9.12"
  }
 },
 "nbformat": 4,
 "nbformat_minor": 5
}
